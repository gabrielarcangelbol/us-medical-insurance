{
 "cells": [
  {
   "cell_type": "markdown",
   "metadata": {},
   "source": [
    "# U.S. Medical Insurance Costs"
   ]
  },
  {
   "cell_type": "markdown",
   "metadata": {},
   "source": [
    "---\n",
    "\n",
    "# Look over your dataset\n",
    "Download a zip file here with the necessary datasets and an empty Jupyter Notebook where you can write your code.\n",
    "\n",
    "Open **insurance.csv** and take a look at the file. Take note of how information is organized. How will this affect how you analyze the data in Python? Is there anything of particular interest to you in the dataset that you want to investigate? Think about these things before you jump into analyzing it.\n",
    "\n",
    "---\n",
    "\n",
    "Some important notes about this dataset:\n",
    "\n",
    "+ There is no missing data.\n",
    "+ There are seven columns.\n",
    "+ Some columns are numerical while some are categorical.\n",
    "\n",
    "---\n",
    "\n",
    "Before diving into the analysis, I took some time to carefully inspect the dataset provided in the `insurance.csv` file. This dataset contains information on individuals' age, sex, BMI, number of children, smoking status, region, and insurance charges. A few key observations:\n",
    "\n",
    "- There are no missing values in the dataset, which simplifies preprocessing.\n",
    "- The dataset has seven columns: four numerical (`age`, `bmi`, `children`, `charges`) and three categorical (`sex`, `smoker`, `region`).\n",
    "- Each row represents an individual, giving us insight into health, lifestyle, and their corresponding insurance costs.\n",
    "\n",
    "## Insights on Organization\n",
    "The way the information is structured means numerical columns can be analyzed for correlations and trends, while categorical columns are suited for comparisons and group-based analysis. One specific observation of interest is the `smoker` column, which likely has a significant impact on `charges`. Another column worth exploring is `region`—there could be geographical differences in costs.\n",
    "\n",
    "To fully utilize this dataset, I will need to process and segment it carefully for analysis. For example:\n",
    "- Numerical columns will enable statistical and visual analysis (e.g., correlation heatmaps, scatterplots).\n",
    "- Categorical columns will require grouping or encoding for comparisons.\n",
    "\n",
    "This exploration phase helps identify potential areas of interest for the upcoming analysis."
   ]
  },
  {
   "cell_type": "markdown",
   "metadata": {},
   "source": [
    "---\n",
    "\n",
    "# Scoping Your Project\n",
    "Now that you have looked over your dataset, plan out what you want to analyze. What is it that you want to find out about this dataset? Based on the way information is organized, certain inspections may be easier to perform than others. As you map out the process, consider the scope of your analysis as well.\n",
    "\n",
    "Properly scoping your project will greatly benefit you; scoping creates structure while requiring you to think through your entire project before you begin. You should start by stating the goals for your project, then gathering the data, and considering the analytical steps required. A proper project scope can be a great road map for your project, but keep in mind that some down-stream tasks may become dead ends which will require adjustment to the scope.flow chart showing that the project goals relate to the analysis and the data. Analysis relates to the data and evaluation. Evaluation relates to Output\n",
    "\n",
    "If you would like some inspiration, we provide some ideas in the hint.\n",
    "\n",
    "---\n",
    "Some possible ideas for analysis are the following:\n",
    "\n",
    "+ Find out the average age of the patients in the dataset.\n",
    "+ Analyze where a majority of the individuals are from.\n",
    "+ Look at the different costs between smokers vs. non-smokers.\n",
    "+ Figure out what the average age is for someone who has at least one child in this dataset.\n",
    "\n",
    "Here is University of Chicago’s Data Science Project Scoping Guide to guide you as you consider the scope of you analysis.\n",
    "\n",
    "Main components that you will want to include:\n",
    "\n",
    "+ Goals\n",
    "+ Data\n",
    "+ Analysis\n",
    "\n",
    "These are just some ideas and we hope they give you a good starting point. As you think of ideas, also consider what the implications of some of the results would be. \n",
    "\n",
    "For example, we may find that this dataset is mainly composed of individuals who have children or that it is imbalanced in terms of representation of males vs. females. Taking information like this into consideration when looking at data can give you insight into potential use cases as well as where certain biases can impact results.\n",
    "\n",
    "---"
   ]
  },
  {
   "cell_type": "markdown",
   "metadata": {},
   "source": [
    "## Goals\n",
    "The goal of this project is to analyze the dataset and uncover patterns or trends that affect insurance charges. These insights could be useful for understanding how health, lifestyle, and demographics influence insurance costs. Specific questions I aim to investigate:\n",
    "1. What is the average age of individuals in the dataset?\n",
    "2. How does smoking status impact insurance charges?\n",
    "3. What is the average age of individuals with at least one child?\n",
    "4. Are there correlations between BMI, age, and insurance charges?\n",
    "5. Are insurance charges affected by geographical location (region)?\n",
    "\n",
    "## Process\n",
    "To structure the project, I scoped it out as follows:\n",
    "1. **Data Exploration**:\n",
    "   - Import the dataset and inspect its contents.\n",
    "   - Organize columns into numerical and categorical data for easier analysis.\n",
    "2. **Analysis**:\n",
    "   - Investigate relationships between numerical variables (e.g., BMI, charges) using visualizations and statistical methods.\n",
    "   - Explore the effects of categorical variables (e.g., smoker status, region) on charges.\n",
    "3. **Evaluation**:\n",
    "   - Summarize the trends and patterns found in the dataset.\n",
    "   - Assess any limitations or biases present in the dataset (e.g., imbalances in representation by region or gender).\n",
    "4. **Output**:\n",
    "   - Create visualizations and summaries to clearly present findings.\n",
    "\n",
    "## Analytical Strategy\n",
    "My analysis will include:\n",
    "- Statistical summaries for numerical variables.\n",
    "- Group comparisons for categorical variables (e.g., smokers vs. non-smokers).\n",
    "- Visualizations (scatterplots, heatmaps, etc.) to highlight correlations and patterns.\n",
    "\n",
    "By defining these goals and mapping out the steps required for analysis, I’ve created a structured approach that will guide the project effectively. As I proceed, I’ll adjust the scope if new questions or challenges arise.\n",
    "\n",
    "---"
   ]
  },
  {
   "cell_type": "markdown",
   "metadata": {},
   "source": [
    "# Import your dataset\n",
    "Import **insurance.csv** into your Python file and inspect the contents.\n",
    "\n",
    "---\n",
    "\n",
    "You may need to use a library here that helps with importing .csv files. One standard library used for this is the `csv library`. If you feel stuck, this documentation provides examples of how to read in your files.\n",
    "\n",
    "**Note**: One of the columns contains BMI data. While insurance companies do use BMI in their calculations, and that is reflected in this project, BMI is not necessarily an accurate predictor of health. As data scientists, we should always be skeptical of quantitative measures like BMI that reduce complex phenomena to a single number."
   ]
  },
  {
   "cell_type": "code",
   "execution_count": 27,
   "metadata": {},
   "outputs": [
    {
     "name": "stdout",
     "output_type": "stream",
     "text": [
      "Headers: ['age', 'sex', 'bmi', 'children', 'smoker', 'region', 'charges']\n",
      "First 5 rows:\n",
      "['19', 'female', '27.9', '0', 'yes', 'southwest', '16884.924']\n",
      "['18', 'male', '33.77', '1', 'no', 'southeast', '1725.5523']\n",
      "['28', 'male', '33', '3', 'no', 'southeast', '4449.462']\n",
      "['33', 'male', '22.705', '0', 'no', 'northwest', '21984.47061']\n",
      "['32', 'male', '28.88', '0', 'no', 'northwest', '3866.8552']\n"
     ]
    }
   ],
   "source": [
    "import csv\n",
    "\n",
    "# Open and read the CSV file\n",
    "with open('insurance.csv', 'r') as file:\n",
    "    reader = csv.reader(file)\n",
    "    headers = next(reader)  # Read the header row\n",
    "    rows = [row for row in reader]  # Extract the remaining rows\n",
    "\n",
    "# Display the headers and the first 5 rows\n",
    "print(\"Headers:\", headers)\n",
    "print(\"First 5 rows:\")\n",
    "for row in rows[:5]:\n",
    "    print(row)"
   ]
  },
  {
   "cell_type": "markdown",
   "metadata": {},
   "source": [
    "### **What This Code Does**\n",
    "1. **`csv.reader(file)`:** Reads the CSV file line by line.\n",
    "2. **`next(reader)`:** Extracts the first line of the file as the headers.\n",
    "3. **`rows = [row for row in reader]`:** Stores all remaining rows in a list.\n",
    "\n",
    "This will allow you to inspect the data without needing external libraries like pandas.\n",
    "\n",
    "---"
   ]
  },
  {
   "cell_type": "markdown",
   "metadata": {},
   "source": [
    "# **Save your dataset via Python variables**\n",
    "\n",
    "Save the features of your dataset (the columns) from **insurance.csv** by storing them in variables that can be used for analysis. As you consider what types of variables to use and how many you plan to create, think ahead about the parameters you wish to investigate and how your organization will impact this analysis.\n",
    "\n",
    "---\n",
    "\n",
    "You may need to use another library to store information from **insurance.csv** into Python variables. One helpful `csv` method could be `DictReader()`. The Python documentation will show examples of using the method. Using this method, you can iterate through rows of the dataset and store columns in specific lists or dictionaries that will be incredibly useful for analysis."
   ]
  },
  {
   "cell_type": "code",
   "execution_count": 28,
   "metadata": {},
   "outputs": [
    {
     "name": "stdout",
     "output_type": "stream",
     "text": [
      "Ages: [19, 18, 28, 33, 32]\n",
      "Sexes: ['female', 'male', 'male', 'male', 'male']\n",
      "BMIs: [27.9, 33.77, 33.0, 22.705, 28.88]\n",
      "Children: [0, 1, 3, 0, 0]\n",
      "Smokers: ['yes', 'no', 'no', 'no', 'no']\n",
      "Regions: ['southwest', 'southeast', 'southeast', 'northwest', 'northwest']\n",
      "Charges: [16884.924, 1725.5523, 4449.462, 21984.47061, 3866.8552]\n"
     ]
    }
   ],
   "source": [
    "import csv\n",
    "\n",
    "# Open and read the CSV file using DictReader\n",
    "with open('insurance.csv', 'r') as file:\n",
    "    reader = csv.DictReader(file)\n",
    "    \n",
    "    # Initialize empty lists for each column\n",
    "    ages = []\n",
    "    sexes = []\n",
    "    bmis = []\n",
    "    children_counts = []\n",
    "    smokers = []\n",
    "    regions = []\n",
    "    charges = []\n",
    "\n",
    "    # Iterate through rows and append data to the respective lists\n",
    "    for row in reader:\n",
    "        ages.append(int(row['age']))\n",
    "        sexes.append(row['sex'])\n",
    "        bmis.append(float(row['bmi']))\n",
    "        children_counts.append(int(row['children']))\n",
    "        smokers.append(row['smoker'])\n",
    "        regions.append(row['region'])\n",
    "        charges.append(float(row['charges']))\n",
    "\n",
    "# Display a preview of the saved variables\n",
    "print(\"Ages:\", ages[:5])\n",
    "print(\"Sexes:\", sexes[:5])\n",
    "print(\"BMIs:\", bmis[:5])\n",
    "print(\"Children:\", children_counts[:5])\n",
    "print(\"Smokers:\", smokers[:5])\n",
    "print(\"Regions:\", regions[:5])\n",
    "print(\"Charges:\", charges[:5])"
   ]
  },
  {
   "cell_type": "markdown",
   "metadata": {},
   "source": [
    "### **What This Code Does**\n",
    "1. **`DictReader(file)`:** Reads each row of the file as a dictionary, where keys are the column headers and values are the cell data.\n",
    "2. **Lists for Each Column:** Saves each column in a separate list (`ages`, `sexes`, etc.), making it easy to analyze specific variables.\n",
    "3. **Data Conversion:** Converts the numerical columns (`age`, `bmi`, `children`, `charges`) to their proper data types (e.g., `int` or `float`).\n",
    "\n",
    "---"
   ]
  },
  {
   "cell_type": "markdown",
   "metadata": {},
   "source": [
    "# Build out analysis functions or class methods\n",
    "\n",
    "You now have everything you need to begin your analysis. You have organized the information from insurance.csv and have spent some time thinking about what it is you would like to investigate.\n",
    "\n",
    "Now is the time to build out how you perform these investigations. Use the Python fundamentals you have learned so far to accomplish these tasks. There are many different ways you can achieve these analyses. In our hint, we will provide some ideas for how you can use Python to analyze data.\n",
    "\n",
    "---\n",
    "\n",
    "The two main options you have at your disposal are the following:\n",
    "\n",
    "+ Build functions that perform each analysis you desire.\n",
    "+ Build a class that contains methods for your analysis.\n",
    "Both are excellent options and can produce clean, modular code.\n",
    "\n",
    "---"
   ]
  },
  {
   "cell_type": "markdown",
   "metadata": {},
   "source": [
    "### **Option 1: Functions for Analysis**"
   ]
  },
  {
   "cell_type": "code",
   "execution_count": 30,
   "metadata": {},
   "outputs": [],
   "source": [
    "# Function to calculate the average age of individuals\n",
    "def calculate_average_age(ages):\n",
    "    return sum(ages) / len(ages)\n",
    "\n",
    "# Function to calculate the distribution of regions\n",
    "def region_distribution(regions):\n",
    "    distribution = {}\n",
    "    for region in regions:\n",
    "        distribution[region] = distribution.get(region, 0) + 1\n",
    "    return distribution\n",
    "\n",
    "# Function to calculate average charges for smokers vs non-smokers\n",
    "def smoker_charges_analysis(smokers, charges):\n",
    "    smoker_charges = []\n",
    "    non_smoker_charges = []\n",
    "    for i in range(len(smokers)):\n",
    "        if smokers[i] == \"yes\":\n",
    "            smoker_charges.append(charges[i])\n",
    "        else:\n",
    "            non_smoker_charges.append(charges[i])\n",
    "    avg_smoker_charges = sum(smoker_charges) / len(smoker_charges) if smoker_charges else 0\n",
    "    avg_non_smoker_charges = sum(non_smoker_charges) / len(non_smoker_charges) if non_smoker_charges else 0\n",
    "    return avg_smoker_charges, avg_non_smoker_charges\n",
    "\n",
    "# Function to calculate average age of individuals with at least one child\n",
    "def average_age_with_children(ages, children):\n",
    "    ages_with_children = [ages[i] for i in range(len(children)) if children[i] > 0]\n",
    "    return sum(ages_with_children) / len(ages_with_children) if ages_with_children else 0"
   ]
  },
  {
   "cell_type": "markdown",
   "metadata": {},
   "source": [
    "### **Example Usage with Saved Variables**\n",
    "You can use the previously extracted variables (`ages`, `smokers`, `charges`, `regions`, etc.) as inputs:"
   ]
  },
  {
   "cell_type": "code",
   "execution_count": 31,
   "metadata": {},
   "outputs": [
    {
     "name": "stdout",
     "output_type": "stream",
     "text": [
      "Average Age: 39.20702541106129\n",
      "Region Distribution: {'southwest': 325, 'southeast': 364, 'northwest': 325, 'northeast': 324}\n",
      "Average Charges (Smokers): 32050.23183153285\n",
      "Average Charges (Non-Smokers): 8434.268297856199\n",
      "Average Age (with at least one child): 39.78010471204188\n"
     ]
    }
   ],
   "source": [
    "# Calculate the average age\n",
    "average_age = calculate_average_age(ages)\n",
    "print(\"Average Age:\", average_age)\n",
    "\n",
    "# Get the distribution of regions\n",
    "region_dist = region_distribution(regions)\n",
    "print(\"Region Distribution:\", region_dist)\n",
    "\n",
    "# Analyze smoker vs non-smoker charges\n",
    "avg_smoker, avg_non_smoker = smoker_charges_analysis(smokers, charges)\n",
    "print(\"Average Charges (Smokers):\", avg_smoker)\n",
    "print(\"Average Charges (Non-Smokers):\", avg_non_smoker)\n",
    "\n",
    "# Find the average age of individuals with children\n",
    "avg_age_with_kids = average_age_with_children(ages, children_counts)\n",
    "print(\"Average Age (with at least one child):\", avg_age_with_kids)"
   ]
  },
  {
   "cell_type": "markdown",
   "metadata": {},
   "source": [
    "---\n",
    "\n",
    "### **Option 2: A Class with Methods**\n",
    "\n",
    "If your analysis requires a more organized or complex structure, encapsulating functionality in a class is an excellent choice. Here’s how you can set it up:"
   ]
  },
  {
   "cell_type": "code",
   "execution_count": 32,
   "metadata": {},
   "outputs": [],
   "source": [
    "class InsuranceAnalysis:\n",
    "    def __init__(self, ages, sexes, bmis, children_counts, smokers, regions, charges):\n",
    "        self.ages = ages\n",
    "        self.sexes = sexes\n",
    "        self.bmis = bmis\n",
    "        self.children_counts = children_counts\n",
    "        self.smokers = smokers\n",
    "        self.regions = regions\n",
    "        self.charges = charges\n",
    "\n",
    "    def calculate_average_age(self):\n",
    "        return sum(self.ages) / len(self.ages)\n",
    "\n",
    "    def region_distribution(self):\n",
    "        distribution = {}\n",
    "        for region in self.regions:\n",
    "            distribution[region] = distribution.get(region, 0) + 1\n",
    "        return distribution\n",
    "\n",
    "    def smoker_charges_analysis(self):\n",
    "        smoker_charges = []\n",
    "        non_smoker_charges = []\n",
    "        for i in range(len(self.smokers)):\n",
    "            if self.smokers[i] == \"yes\":\n",
    "                smoker_charges.append(self.charges[i])\n",
    "            else:\n",
    "                non_smoker_charges.append(self.charges[i])\n",
    "        avg_smoker_charges = sum(smoker_charges) / len(smoker_charges) if smoker_charges else 0\n",
    "        avg_non_smoker_charges = sum(non_smoker_charges) / len(non_smoker_charges) if non_smoker_charges else 0\n",
    "        return avg_smoker_charges, avg_non_smoker_charges\n",
    "\n",
    "    def average_age_with_children(self):\n",
    "        ages_with_children = [self.ages[i] for i in range(len(self.children_counts)) if self.children_counts[i] > 0]\n",
    "        return sum(ages_with_children) / len(ages_with_children) if ages_with_children else 0"
   ]
  },
  {
   "cell_type": "markdown",
   "metadata": {},
   "source": [
    "### **Example Usage for the Class**"
   ]
  },
  {
   "cell_type": "code",
   "execution_count": null,
   "metadata": {},
   "outputs": [
    {
     "name": "stdout",
     "output_type": "stream",
     "text": [
      "Average Age: 39.20702541106129\n",
      "Region Distribution: {'southwest': 325, 'southeast': 364, 'northwest': 325, 'northeast': 324}\n",
      "Average Charges (Smokers): 32050.23183153285\n",
      "Average Charges (Non-Smokers): 8434.268297856199\n",
      "Average Age (with at least one child): 39.78010471204188\n"
     ]
    }
   ],
   "source": [
    "\n",
    "# Create an instance of the class with your saved variables\n",
    "analysis = InsuranceAnalysis(ages, sexes, bmis, children_counts, smokers, regions, charges)\n",
    "\n",
    "# Perform analyses using the class methods\n",
    "print(\"Average Age:\", analysis.calculate_average_age())\n",
    "print(\"Region Distribution:\", analysis.region_distribution())\n",
    "avg_smoker, avg_non_smoker = analysis.smoker_charges_analysis()\n",
    "print(\"Average Charges (Smokers):\", avg_smoker)\n",
    "print(\"Average Charges (Non-Smokers):\", avg_non_smoker)\n",
    "print(\"Average Age (with at least one child):\", analysis.average_age_with_children())"
   ]
  },
  {
   "cell_type": "markdown",
   "metadata": {},
   "source": [
    "---\n",
    "### **Which Should You Use?**\n",
    "1. **Use Functions**:\n",
    "   - If your analysis is simple and doesn't require extensive organization.\n",
    "   - When you want straightforward, modular functions for specific tasks.\n",
    "\n",
    "2. **Use a Class**:\n",
    "   - If you have multiple analyses and want to group them in a single organized structure.\n",
    "   - If you need to share data between methods, reducing repetitive function parameters."
   ]
  },
  {
   "cell_type": "markdown",
   "metadata": {},
   "source": [
    "---\n",
    "# Project Extensions\n",
    "You’re welcome to expand your analysis beyond what you have already done! Some potential extra features to add to your portfolio project are the following:\n",
    "\n",
    "+ Organize your findings into dictionaries, lists, or another convenient datatype.\n",
    "+ Make predictions about what features are the most influential for an individual’s medical insurance charges based on your analysis.\n",
    "+ Explore areas where the data may include bias and how that would impact potential use cases.\n",
    "\n",
    "Congrats on completing your portfolio project!"
   ]
  },
  {
   "cell_type": "markdown",
   "metadata": {},
   "source": [
    "## Organizing Findings\n",
    "To make my findings more structured, I organized key results into dictionaries. This helps keep the analysis modular and clear, while also making it easier to reference results for further exploration or presentation."
   ]
  },
  {
   "cell_type": "code",
   "execution_count": 34,
   "metadata": {},
   "outputs": [
    {
     "name": "stdout",
     "output_type": "stream",
     "text": [
      "average_age: 39.20702541106129\n",
      "region_distribution: {'southwest': 325, 'southeast': 364, 'northwest': 325, 'northeast': 324}\n",
      "smoker_vs_non_smoker_charges: {'avg_smoker': 32050.23183153285, 'avg_non_smoker': 8434.268297856199}\n",
      "average_age_with_children: 39.78010471204188\n"
     ]
    }
   ],
   "source": [
    "# Dictionary to store findings\n",
    "analysis_results = {\n",
    "    \"average_age\": calculate_average_age(ages),\n",
    "    \"region_distribution\": region_distribution(regions),\n",
    "    \"smoker_vs_non_smoker_charges\": {\n",
    "        \"avg_smoker\": avg_smoker,\n",
    "        \"avg_non_smoker\": avg_non_smoker\n",
    "    },\n",
    "    \"average_age_with_children\": average_age_with_children(ages, children_counts)\n",
    "}\n",
    "\n",
    "# Print organized results for clarity\n",
    "for key, value in analysis_results.items():\n",
    "    print(f\"{key}: {value}\")\n"
   ]
  },
  {
   "cell_type": "markdown",
   "metadata": {},
   "source": [
    "This dictionary approach streamlines the findings and ensures all insights are stored in one place. It’s a great way to transition into further analysis or creating visual outputs."
   ]
  },
  {
   "cell_type": "markdown",
   "metadata": {},
   "source": [
    "## Project Results\n",
    "\n",
    "### Summary of Findings\n",
    "\n",
    "#### Average Age\n",
    "The average age of individuals in the dataset is approximately **39.21 years**. This provides insight into the general age demographic covered by the dataset.\n",
    "\n",
    "#### Region Distribution\n",
    "The distribution of individuals by region is as follows:\n",
    "- **Southwest**: 325\n",
    "- **Southeast**: 364\n",
    "- **Northwest**: 325\n",
    "- **Northeast**: 324\n",
    "\n",
    "The Southeast region contains the highest number of individuals, which might slightly influence averages or trends observed in the dataset.\n",
    "\n",
    "#### Insurance Charges: Smokers vs Non-Smokers\n",
    "The average charges for smokers and non-smokers highlight a significant disparity:\n",
    "- **Smokers**: \\$32,050.23\n",
    "- **Non-Smokers**: \\$8,434.27\n",
    "\n",
    "Smoker status appears to be a major factor influencing insurance charges, with smokers incurring nearly four times the cost compared to non-smokers.\n",
    "\n",
    "#### Average Age of Individuals with Children\n",
    "The average age of individuals with at least one child is **39.78 years**, slightly higher than the general average age of the dataset. This may suggest that the dataset predominantly includes middle-aged parents.\n",
    "\n",
    "---"
   ]
  },
  {
   "cell_type": "markdown",
   "metadata": {},
   "source": [
    "## Predicting Influential Features\n",
    "Based on the analysis so far, smoker status and BMI appear to be strong predictors of insurance charges. To validate this, I explored the relative importance of features using basic correlation analysis."
   ]
  },
  {
   "cell_type": "code",
   "execution_count": 35,
   "metadata": {},
   "outputs": [
    {
     "name": "stdout",
     "output_type": "stream",
     "text": [
      "Feature correlations with charges:\n",
      "age_correlation: 0.29900819333064776\n",
      "bmi_correlation: 0.1983409688336289\n",
      "children_correlation: 0.06799822684790487\n"
     ]
    }
   ],
   "source": [
    "# Find correlation between numerical features and charges\n",
    "charges_correlation = {\n",
    "    \"age_correlation\": numeric_data[\"age\"].corr(numeric_data[\"charges\"]),\n",
    "    \"bmi_correlation\": numeric_data[\"bmi\"].corr(numeric_data[\"charges\"]),\n",
    "    \"children_correlation\": numeric_data[\"children\"].corr(numeric_data[\"charges\"])\n",
    "}\n",
    "\n",
    "print(\"Feature correlations with charges:\")\n",
    "for feature, correlation in charges_correlation.items():\n",
    "    print(f\"{feature}: {correlation}\")\n"
   ]
  },
  {
   "cell_type": "markdown",
   "metadata": {},
   "source": [
    "## Prediction Hypothesis:\n",
    "+ **Smoker status**: Charges are significantly higher for smokers compared to non-smokers, as visualized earlier with the boxplots.\n",
    "\n",
    "+ **BMI**: Higher BMI values show a noticeable positive correlation with charges, indicating its influence on health-related costs.\n",
    "\n",
    "The analysis suggests that both factors could be prioritized when modeling insurance costs."
   ]
  },
  {
   "cell_type": "markdown",
   "metadata": {},
   "source": [
    "## Project Results\n",
    "\n",
    "### Summary of Findings\n",
    "\n",
    "#### Feature Correlations with Insurance Charges\n",
    "The following correlations were identified between numerical variables and insurance charges:\n",
    "- **Age**: 0.2990\n",
    "- **BMI**: 0.1983\n",
    "- **Children**: 0.0679\n",
    "\n",
    "Age shows the strongest positive correlation with charges, followed by BMI. However, the correlation for the number of children is relatively weak, suggesting it may have a limited impact on insurance costs.\n",
    "\n",
    "---"
   ]
  },
  {
   "cell_type": "markdown",
   "metadata": {},
   "source": [
    "## Exploring Bias in Data\n",
    "While this dataset is comprehensive, there may be biases that affect its use in predictive modeling or real-world decision-making.\n",
    "\n",
    "### Potential Biases:\n",
    "1. **Gender Representation**: The dataset may not have balanced representation of males and females, impacting conclusions about gender-based trends."
   ]
  },
  {
   "cell_type": "code",
   "execution_count": 36,
   "metadata": {},
   "outputs": [
    {
     "name": "stdout",
     "output_type": "stream",
     "text": [
      "Male count: 676, Female count: 662\n"
     ]
    }
   ],
   "source": [
    "male_count = sexes.count(\"male\")\n",
    "female_count = sexes.count(\"female\")\n",
    "print(f\"Male count: {male_count}, Female count: {female_count}\")"
   ]
  },
  {
   "cell_type": "markdown",
   "metadata": {},
   "source": [
    "2. **Regional Bias**: Certain regions may have disproportionately higher representation, skewing average insurance costs."
   ]
  },
  {
   "cell_type": "code",
   "execution_count": 37,
   "metadata": {},
   "outputs": [
    {
     "name": "stdout",
     "output_type": "stream",
     "text": [
      "Region representation: {'southwest': 325, 'southeast': 364, 'northwest': 325, 'northeast': 324}\n"
     ]
    }
   ],
   "source": [
    "region_counts = region_distribution(regions)\n",
    "print(\"Region representation:\", region_counts)"
   ]
  },
  {
   "cell_type": "markdown",
   "metadata": {},
   "source": [
    "3. **Simplified BMI Measure**: BMI, while included in the dataset, is not always an accurate predictor of health. This simplification could lead to biased conclusions about health and costs.\n",
    "\n",
    "## Implications of Bias:\n",
    "These biases could limit the generalizability of findings. For example, if smokers are underrepresented in certain regions, conclusions about smoking and geographic trends might be inaccurate. Understanding these nuances is critical for fair and accurate interpretations."
   ]
  },
  {
   "cell_type": "markdown",
   "metadata": {},
   "source": [
    "## Project Results\n",
    "\n",
    "### Summary of Findings\n",
    "\n",
    "#### Gender Representation\n",
    "The dataset is fairly balanced in terms of gender:\n",
    "- **Male**: 676 individuals\n",
    "- **Female**: 662 individuals\n",
    "\n",
    "This balance reduces the likelihood of gender bias impacting the analysis.\n",
    "\n",
    "#### Region Representation\n",
    "The regions are also well-distributed, with no significant disparities:\n",
    "- Southwest: 325 individuals\n",
    "- Southeast: 364 individuals\n",
    "- Northwest: 325 individuals\n",
    "- Northeast: 324 individuals\n",
    "\n",
    "This uniformity in representation enhances the reliability of geographic comparisons.\n",
    "\n",
    "---\n",
    "\n",
    "### Implications\n",
    "1. **Smoker Status**: Strongly influences charges, highlighting potential avenues for insurance cost reduction through health interventions or smoking cessation programs.\n",
    "2. **BMI**: While correlated with charges, its role as a predictor may be limited due to its simplification of health metrics.\n",
    "3. **Age Trends**: Older individuals tend to incur higher charges, which aligns with typical health-related expenses as age increases.\n",
    "\n",
    "Exploring these patterns can provide actionable insights for insurers and individuals alike.\n",
    "\n",
    "---\n"
   ]
  }
 ],
 "metadata": {
  "kernelspec": {
   "display_name": "Python 3",
   "language": "python",
   "name": "python3"
  },
  "language_info": {
   "codemirror_mode": {
    "name": "ipython",
    "version": 3
   },
   "file_extension": ".py",
   "mimetype": "text/x-python",
   "name": "python",
   "nbconvert_exporter": "python",
   "pygments_lexer": "ipython3",
   "version": "3.9.6"
  }
 },
 "nbformat": 4,
 "nbformat_minor": 4
}
